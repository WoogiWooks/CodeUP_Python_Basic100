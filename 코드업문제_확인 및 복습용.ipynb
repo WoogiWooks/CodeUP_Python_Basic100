{
  "nbformat": 4,
  "nbformat_minor": 0,
  "metadata": {
    "colab": {
      "name": "코드업문제 확인용",
      "provenance": [],
      "collapsed_sections": [],
      "authorship_tag": "ABX9TyMoqF1c8IFxTA3d41hn2Ff/",
      "include_colab_link": true
    },
    "kernelspec": {
      "name": "python3",
      "display_name": "Python 3"
    },
    "language_info": {
      "name": "python"
    }
  },
  "cells": [
    {
      "cell_type": "markdown",
      "metadata": {
        "id": "view-in-github",
        "colab_type": "text"
      },
      "source": [
        "<a href=\"https://colab.research.google.com/github/WoogiWooks/CodeUP_Python_Basic100/blob/main/%EC%BD%94%EB%93%9C%EC%97%85%EB%AC%B8%EC%A0%9C_%ED%99%95%EC%9D%B8%20%EB%B0%8F%20%EB%B3%B5%EC%8A%B5%EC%9A%A9.ipynb\" target=\"_parent\"><img src=\"https://colab.research.google.com/assets/colab-badge.svg\" alt=\"Open In Colab\"/></a>"
      ]
    },
    {
      "cell_type": "markdown",
      "source": [
        "# **6073**"
      ],
      "metadata": {
        "id": "1vMJTY3nxeYe"
      }
    },
    {
      "cell_type": "code",
      "execution_count": null,
      "metadata": {
        "colab": {
          "base_uri": "https://localhost:8080/"
        },
        "id": "GFkhWeiVxLTR",
        "outputId": "acfda54e-a3de-44f0-e6f2-d35e006ff451"
      },
      "outputs": [
        {
          "output_type": "stream",
          "name": "stdout",
          "text": [
            "5\n",
            "4\n",
            "3\n",
            "2\n",
            "1\n",
            "0\n"
          ]
        }
      ],
      "source": [
        "a = input()\n",
        "a = int(a)\n",
        "while True:\n",
        "    a=a-1\n",
        "    if a>=0:\n",
        "        print(a)\n",
        "    else:\n",
        "        break"
      ]
    },
    {
      "cell_type": "code",
      "source": [
        "a = input()\n",
        "a = int(a)\n",
        "while True:\n",
        "    if a>0:\n",
        "        a=a-1\n",
        "        print(a)\n",
        "    else:\n",
        "        break\n",
        "      "
      ],
      "metadata": {
        "colab": {
          "base_uri": "https://localhost:8080/"
        },
        "id": "OQmM-jnAxTf9",
        "outputId": "f20d026b-80d6-4cc7-ce44-423540cfc149"
      },
      "execution_count": null,
      "outputs": [
        {
          "output_type": "stream",
          "name": "stdout",
          "text": [
            "5\n",
            "4\n",
            "3\n",
            "2\n",
            "1\n",
            "0\n"
          ]
        }
      ]
    },
    {
      "cell_type": "code",
      "source": [
        "a = input()\n",
        "a = int(a)\n",
        "while True:\n",
        "    if a>=0:\n",
        "        a=a-1\n",
        "        print(a)\n",
        "    else:\n",
        "        break"
      ],
      "metadata": {
        "colab": {
          "base_uri": "https://localhost:8080/"
        },
        "id": "yW_jBNjHxVKd",
        "outputId": "80c4c79f-4c83-4f82-a536-6d8983341a5b"
      },
      "execution_count": null,
      "outputs": [
        {
          "output_type": "stream",
          "name": "stdout",
          "text": [
            "5\n",
            "4\n",
            "3\n",
            "2\n",
            "1\n",
            "0\n",
            "-1\n"
          ]
        }
      ]
    },
    {
      "cell_type": "code",
      "source": [
        "a = input()\n",
        "a = int(a)\n",
        "while True:\n",
        "    if a>=0:\n",
        "        a=a-1\n",
        "        print(a)\n",
        "    else:\n",
        "        break"
      ],
      "metadata": {
        "colab": {
          "base_uri": "https://localhost:8080/"
        },
        "id": "czEHj0ovxaD9",
        "outputId": "9daefd34-78a8-405c-b798-54b4b89937e9"
      },
      "execution_count": null,
      "outputs": [
        {
          "output_type": "stream",
          "name": "stdout",
          "text": [
            "5\n",
            "4\n",
            "3\n",
            "2\n",
            "1\n",
            "0\n",
            "-1\n"
          ]
        }
      ]
    },
    {
      "cell_type": "markdown",
      "source": [
        "# **6074**"
      ],
      "metadata": {
        "id": "UPsoXsfYxmI1"
      }
    },
    {
      "cell_type": "code",
      "source": [
        "# 영문자를 10진수로\n",
        "# ord\n",
        "a = \"a\"\n",
        "n = ord(a)\n",
        "print(n)\n",
        "print(type(n))"
      ],
      "metadata": {
        "colab": {
          "base_uri": "https://localhost:8080/"
        },
        "id": "2KfVv4rkxlcV",
        "outputId": "367d4bb4-abc0-4eb8-a045-aad85a37e9c2"
      },
      "execution_count": null,
      "outputs": [
        {
          "output_type": "stream",
          "name": "stdout",
          "text": [
            "97\n",
            "<class 'int'>\n"
          ]
        }
      ]
    },
    {
      "cell_type": "code",
      "source": [
        "# 10진수를 영문자로\n",
        "# chr\n",
        "a = 97\n",
        "n = chr(a)\n",
        "print(n)\n",
        "print(type(n))"
      ],
      "metadata": {
        "colab": {
          "base_uri": "https://localhost:8080/"
        },
        "id": "73r3pVczyVr1",
        "outputId": "3f937f51-9d70-45cd-8dc9-af7f2cf4ec12"
      },
      "execution_count": null,
      "outputs": [
        {
          "output_type": "stream",
          "name": "stdout",
          "text": [
            "a\n",
            "<class 'str'>\n"
          ]
        }
      ]
    },
    {
      "cell_type": "markdown",
      "source": [
        "# **가로 출력**"
      ],
      "metadata": {
        "id": "Bq_j2Pv904Qj"
      }
    },
    {
      "cell_type": "code",
      "source": [
        "# end=\"\" 사용\n",
        "\n",
        "a = int(input())\n",
        "for i in range(0, a+1):\n",
        "    print(i, \"\", end=\"\")"
      ],
      "metadata": {
        "colab": {
          "base_uri": "https://localhost:8080/"
        },
        "id": "d2E1oTwU0ZNt",
        "outputId": "4cc9a1c0-9bb6-4e42-efcb-aa8486de4364"
      },
      "execution_count": null,
      "outputs": [
        {
          "output_type": "stream",
          "name": "stdout",
          "text": [
            "5\n",
            "0 1 2 3 4 5 "
          ]
        }
      ]
    },
    {
      "cell_type": "markdown",
      "source": [
        "# **원하는 문자 입력시 까지 반복 출력**"
      ],
      "metadata": {
        "id": "h9XNVr6J6QBn"
      }
    },
    {
      "cell_type": "code",
      "source": [
        "while True:\n",
        "    a = input()\n",
        "    print(a)\n",
        "    if a==\"q\":\n",
        "        break"
      ],
      "metadata": {
        "colab": {
          "base_uri": "https://localhost:8080/"
        },
        "id": "2tiQoZ-z6U23",
        "outputId": "a48ad2d1-835c-4dce-b2aa-77b730d81306"
      },
      "execution_count": null,
      "outputs": [
        {
          "output_type": "stream",
          "name": "stdout",
          "text": [
            "a\n",
            "a\n",
            "b\n",
            "b\n",
            "q\n",
            "q\n"
          ]
        }
      ]
    },
    {
      "cell_type": "code",
      "source": [
        "# q입력시 q나오고 끝나는게 아니라 q가 안나오고 끝남\n",
        "while True:\n",
        "    a = input()\n",
        "    if a==\"q\":\n",
        "        break\n",
        "    else:\n",
        "        print(a)"
      ],
      "metadata": {
        "colab": {
          "base_uri": "https://localhost:8080/"
        },
        "id": "EwIHVA3V7KZ_",
        "outputId": "174224a3-1f49-46ca-f05b-1fef1761f96d"
      },
      "execution_count": null,
      "outputs": [
        {
          "name": "stdout",
          "output_type": "stream",
          "text": [
            "a\n",
            "a\n",
            "b\n",
            "b\n",
            "q\n"
          ]
        }
      ]
    },
    {
      "cell_type": "markdown",
      "source": [
        "# **16진수로 표현하기**"
      ],
      "metadata": {
        "id": "tD4V7KZfOtSP"
      }
    },
    {
      "cell_type": "code",
      "source": [
        "a = input()\n",
        "n = int(a)\n",
        "print('%x'% n)  "
      ],
      "metadata": {
        "colab": {
          "base_uri": "https://localhost:8080/"
        },
        "id": "kQv9UmIVOwqX",
        "outputId": "5c60c25f-fe59-4418-f29c-65b54c0e0889"
      },
      "execution_count": null,
      "outputs": [
        {
          "output_type": "stream",
          "name": "stdout",
          "text": [
            "11\n",
            "b\n"
          ]
        }
      ]
    },
    {
      "cell_type": "markdown",
      "source": [
        "# **369 게임**"
      ],
      "metadata": {
        "id": "RE5df1p8UxcX"
      }
    },
    {
      "cell_type": "code",
      "source": [
        "n = int(input())\n",
        "for i in range(1, n+1):\n",
        "    i = str(i)\n",
        "    if (\"3\" in i) or (\"6\" in i) or (\"9\" in i):\n",
        "        print(\"X\")\n",
        "    else:\n",
        "        print(i)\n",
        "    "
      ],
      "metadata": {
        "colab": {
          "base_uri": "https://localhost:8080/"
        },
        "id": "PXT_7nRxSar_",
        "outputId": "275f89ce-977f-4175-daf4-53c08ecc63c9"
      },
      "execution_count": null,
      "outputs": [
        {
          "output_type": "stream",
          "name": "stdout",
          "text": [
            "30\n",
            "1\n",
            "2\n",
            "X\n",
            "4\n",
            "5\n",
            "X\n",
            "7\n",
            "8\n",
            "X\n",
            "10\n",
            "11\n",
            "12\n",
            "X\n",
            "14\n",
            "15\n",
            "X\n",
            "17\n",
            "18\n",
            "X\n",
            "20\n",
            "21\n",
            "22\n",
            "X\n",
            "24\n",
            "25\n",
            "X\n",
            "27\n",
            "28\n",
            "X\n",
            "X\n"
          ]
        }
      ]
    },
    {
      "cell_type": "code",
      "source": [
        "n = int(input())\n",
        "for i in range(1, n+1):\n",
        "    if (3 in i) or (6 in i) or (9 in i):\n",
        "        print(\"X\")\n",
        "    else:\n",
        "        print(i)\n",
        "\n",
        "# in은 연속형에서만 사용이 가능\n",
        "# 정수는 문자열처럼 연속형이 아님\n",
        "# 30은 3과 0으로 이루어진게 아닌 30그자체의 불연속형\n",
        "# \"30\"은 3과 0으로 이루어진 연속형"
      ],
      "metadata": {
        "colab": {
          "base_uri": "https://localhost:8080/",
          "height": 268
        },
        "id": "PEDYlcVUU1l-",
        "outputId": "57dd61d0-4f6a-4b64-cab9-243d0f48350f"
      },
      "execution_count": null,
      "outputs": [
        {
          "name": "stdout",
          "output_type": "stream",
          "text": [
            "30\n"
          ]
        },
        {
          "output_type": "error",
          "ename": "TypeError",
          "evalue": "ignored",
          "traceback": [
            "\u001b[0;31m---------------------------------------------------------------------------\u001b[0m",
            "\u001b[0;31mTypeError\u001b[0m                                 Traceback (most recent call last)",
            "\u001b[0;32m<ipython-input-15-5c51dc4a3345>\u001b[0m in \u001b[0;36m<module>\u001b[0;34m()\u001b[0m\n\u001b[1;32m      1\u001b[0m \u001b[0mn\u001b[0m \u001b[0;34m=\u001b[0m \u001b[0mint\u001b[0m\u001b[0;34m(\u001b[0m\u001b[0minput\u001b[0m\u001b[0;34m(\u001b[0m\u001b[0;34m)\u001b[0m\u001b[0;34m)\u001b[0m\u001b[0;34m\u001b[0m\u001b[0;34m\u001b[0m\u001b[0m\n\u001b[1;32m      2\u001b[0m \u001b[0;32mfor\u001b[0m \u001b[0mi\u001b[0m \u001b[0;32min\u001b[0m \u001b[0mrange\u001b[0m\u001b[0;34m(\u001b[0m\u001b[0;36m1\u001b[0m\u001b[0;34m,\u001b[0m \u001b[0mn\u001b[0m\u001b[0;34m+\u001b[0m\u001b[0;36m1\u001b[0m\u001b[0;34m)\u001b[0m\u001b[0;34m:\u001b[0m\u001b[0;34m\u001b[0m\u001b[0;34m\u001b[0m\u001b[0m\n\u001b[0;32m----> 3\u001b[0;31m     \u001b[0;32mif\u001b[0m \u001b[0;34m(\u001b[0m\u001b[0;36m3\u001b[0m \u001b[0;32min\u001b[0m \u001b[0mi\u001b[0m\u001b[0;34m)\u001b[0m \u001b[0;32mor\u001b[0m \u001b[0;34m(\u001b[0m\u001b[0;36m6\u001b[0m \u001b[0;32min\u001b[0m \u001b[0mi\u001b[0m\u001b[0;34m)\u001b[0m \u001b[0;32mor\u001b[0m \u001b[0;34m(\u001b[0m\u001b[0;36m9\u001b[0m \u001b[0;32min\u001b[0m \u001b[0mi\u001b[0m\u001b[0;34m)\u001b[0m\u001b[0;34m:\u001b[0m\u001b[0;34m\u001b[0m\u001b[0;34m\u001b[0m\u001b[0m\n\u001b[0m\u001b[1;32m      4\u001b[0m         \u001b[0mprint\u001b[0m\u001b[0;34m(\u001b[0m\u001b[0;34m\"X\"\u001b[0m\u001b[0;34m)\u001b[0m\u001b[0;34m\u001b[0m\u001b[0;34m\u001b[0m\u001b[0m\n\u001b[1;32m      5\u001b[0m     \u001b[0;32melse\u001b[0m\u001b[0;34m:\u001b[0m\u001b[0;34m\u001b[0m\u001b[0;34m\u001b[0m\u001b[0m\n",
            "\u001b[0;31mTypeError\u001b[0m: argument of type 'int' is not iterable"
          ]
        }
      ]
    },
    {
      "cell_type": "code",
      "source": [
        "n = int(input())\n",
        "for i in range(1, n+1):\n",
        "    if (3 in [i]) or (6 in [i]) or (9 in [i]):\n",
        "        print(\"X\")\n",
        "    else:\n",
        "        print(i)\n",
        "\n",
        "# i를 리스트로 하여 연속형으로 만들었음\n",
        "# 하지만 리스트 자체가 연속형일뿐 리스트 안의 원소는 정수형으로 불연속임\n",
        "# 따라서 13, 16, 19같은 불연속형은 3이 있어도 1과 3이 아닌 13자체로 받기에 인식하지 못함"
      ],
      "metadata": {
        "colab": {
          "base_uri": "https://localhost:8080/"
        },
        "id": "z5d6KLiMVJhm",
        "outputId": "2e4c4107-7b38-4241-dccf-1650f143760f"
      },
      "execution_count": null,
      "outputs": [
        {
          "output_type": "stream",
          "name": "stdout",
          "text": [
            "30\n",
            "1\n",
            "2\n",
            "X\n",
            "4\n",
            "5\n",
            "X\n",
            "7\n",
            "8\n",
            "X\n",
            "10\n",
            "11\n",
            "12\n",
            "13\n",
            "14\n",
            "15\n",
            "16\n",
            "17\n",
            "18\n",
            "19\n",
            "20\n",
            "21\n",
            "22\n",
            "23\n",
            "24\n",
            "25\n",
            "26\n",
            "27\n",
            "28\n",
            "29\n",
            "30\n"
          ]
        }
      ]
    },
    {
      "cell_type": "code",
      "source": [
        "if (3 in [13]):\n",
        "        print(\"X\")\n",
        "elif (3 in [3]):\n",
        "  print(\"O\")"
      ],
      "metadata": {
        "colab": {
          "base_uri": "https://localhost:8080/"
        },
        "id": "sx_NDrPpWfYu",
        "outputId": "41b4b24d-d012-4dbe-99d6-fa5f3d5d7229"
      },
      "execution_count": null,
      "outputs": [
        {
          "output_type": "stream",
          "name": "stdout",
          "text": [
            "O\n"
          ]
        }
      ]
    },
    {
      "cell_type": "code",
      "source": [
        "n = int(input())\n",
        "for i in range(1, n+1):\n",
        "    i = str(i)\n",
        "    if (\"3\" in [i]) or (\"6\" in [i]) or (\"9\" in [i]):\n",
        "        print(\"X\")\n",
        "    else:\n",
        "        print(i)\n",
        "\n",
        "# 문자 자체에 3이 있는지 가 아니라\n",
        "# 리스트 안에 문자가 있는지를 확인하게 되어 13, 16, 19 적용안됨\n",
        "# 아래 코드로 확인"
      ],
      "metadata": {
        "colab": {
          "base_uri": "https://localhost:8080/"
        },
        "id": "wt02raYsVlzW",
        "outputId": "ce3188f5-a718-42ec-f177-73408606be9d"
      },
      "execution_count": null,
      "outputs": [
        {
          "output_type": "stream",
          "name": "stdout",
          "text": [
            "30\n",
            "1\n",
            "2\n",
            "X\n",
            "4\n",
            "5\n",
            "X\n",
            "7\n",
            "8\n",
            "X\n",
            "10\n",
            "11\n",
            "12\n",
            "13\n",
            "14\n",
            "15\n",
            "16\n",
            "17\n",
            "18\n",
            "19\n",
            "20\n",
            "21\n",
            "22\n",
            "23\n",
            "24\n",
            "25\n",
            "26\n",
            "27\n",
            "28\n",
            "29\n",
            "30\n"
          ]
        }
      ]
    },
    {
      "cell_type": "code",
      "source": [
        "if \"3\" in [\"13\"]:\n",
        "   print(\"X\")\n",
        "elif \"3\" in \"13\":\n",
        "  print(\"O\")"
      ],
      "metadata": {
        "colab": {
          "base_uri": "https://localhost:8080/"
        },
        "id": "QFVlMbmsV9nG",
        "outputId": "c9512747-32a7-4fc9-b7b3-ec91539f7ea0"
      },
      "execution_count": null,
      "outputs": [
        {
          "output_type": "stream",
          "name": "stdout",
          "text": [
            "O\n"
          ]
        }
      ]
    },
    {
      "cell_type": "markdown",
      "source": [
        "# **빛섞어 색만들기**"
      ],
      "metadata": {
        "id": "qL-RENLKaood"
      }
    },
    {
      "cell_type": "code",
      "source": [
        "r, g, b = map(int, input().split())\n",
        "if (0<=r and r<=127) and (0<=g and g<=127) and (0<=b and b<=127):\n",
        "    for i in range(0, r):\n",
        "        for j in range(0, g):\n",
        "            for k in range(0, b):\n",
        "                print(i, j, k)\n",
        "    print(r*g*b)"
      ],
      "metadata": {
        "colab": {
          "base_uri": "https://localhost:8080/"
        },
        "id": "obD1Mm-dV9h9",
        "outputId": "7420c738-d02e-4693-d1ef-390580af43d4"
      },
      "execution_count": null,
      "outputs": [
        {
          "output_type": "stream",
          "name": "stdout",
          "text": [
            "2 3 2\n",
            "0 0 0\n",
            "0 0 1\n",
            "0 1 0\n",
            "0 1 1\n",
            "0 2 0\n",
            "0 2 1\n",
            "1 0 0\n",
            "1 0 1\n",
            "1 1 0\n",
            "1 1 1\n",
            "1 2 0\n",
            "1 2 1\n",
            "12\n"
          ]
        }
      ]
    },
    {
      "cell_type": "code",
      "source": [
        "r=10\n",
        "g= 5\n",
        "for r in range(r):\n",
        "  for g in range(g):\n",
        "    print(r,g)\n",
        "\n",
        "# for문에 웬만하면 range에 들어가는 것과 중복되지 않게"
      ],
      "metadata": {
        "colab": {
          "base_uri": "https://localhost:8080/"
        },
        "id": "IFFPAnQvavC6",
        "outputId": "52b4a95e-e708-4b2c-f2b7-a12a4ccc9d77"
      },
      "execution_count": null,
      "outputs": [
        {
          "output_type": "stream",
          "name": "stdout",
          "text": [
            "0 0\n",
            "0 1\n",
            "0 2\n",
            "0 3\n",
            "0 4\n",
            "1 0\n",
            "1 1\n",
            "1 2\n",
            "1 3\n",
            "2 0\n",
            "2 1\n",
            "2 2\n",
            "3 0\n",
            "3 1\n",
            "4 0\n"
          ]
        }
      ]
    },
    {
      "cell_type": "code",
      "source": [
        "r=10\n",
        "g= 5\n",
        "for i in range(r):\n",
        "  for j in range(g):\n",
        "    print(i,j)\n"
      ],
      "metadata": {
        "colab": {
          "base_uri": "https://localhost:8080/"
        },
        "id": "Stgs4eEsbPX1",
        "outputId": "74cd3d9d-8bb8-4beb-8b78-4ef1cda5eb12"
      },
      "execution_count": null,
      "outputs": [
        {
          "output_type": "stream",
          "name": "stdout",
          "text": [
            "0 0\n",
            "0 1\n",
            "0 2\n",
            "0 3\n",
            "0 4\n",
            "1 0\n",
            "1 1\n",
            "1 2\n",
            "1 3\n",
            "1 4\n",
            "2 0\n",
            "2 1\n",
            "2 2\n",
            "2 3\n",
            "2 4\n",
            "3 0\n",
            "3 1\n",
            "3 2\n",
            "3 3\n",
            "3 4\n",
            "4 0\n",
            "4 1\n",
            "4 2\n",
            "4 3\n",
            "4 4\n",
            "5 0\n",
            "5 1\n",
            "5 2\n",
            "5 3\n",
            "5 4\n",
            "6 0\n",
            "6 1\n",
            "6 2\n",
            "6 3\n",
            "6 4\n",
            "7 0\n",
            "7 1\n",
            "7 2\n",
            "7 3\n",
            "7 4\n",
            "8 0\n",
            "8 1\n",
            "8 2\n",
            "8 3\n",
            "8 4\n",
            "9 0\n",
            "9 1\n",
            "9 2\n",
            "9 3\n",
            "9 4\n"
          ]
        }
      ]
    },
    {
      "cell_type": "markdown",
      "source": [
        "# **3의 배수는 통과 => Continue 사용**"
      ],
      "metadata": {
        "id": "z9bHz2RUzg_f"
      }
    },
    {
      "cell_type": "code",
      "source": [
        "# Continue 사용하면 해당 루프 생략하고 다음 루프로 넘어감\n",
        "a = int(input())\n",
        "\n",
        "for i in range(1, a+1):\n",
        "    if i%3!=0:\n",
        "        print(i)\n",
        "    else:\n",
        "        continue"
      ],
      "metadata": {
        "colab": {
          "base_uri": "https://localhost:8080/"
        },
        "id": "NDkId_KcuchE",
        "outputId": "2062c683-2982-47c3-a4f8-bdb794ffcb4e"
      },
      "execution_count": null,
      "outputs": [
        {
          "output_type": "stream",
          "name": "stdout",
          "text": [
            "10\n",
            "1\n",
            "2\n",
            "4\n",
            "5\n",
            "7\n",
            "8\n",
            "10\n"
          ]
        }
      ]
    },
    {
      "cell_type": "markdown",
      "source": [
        "# **6092, 이상한 출석체크**"
      ],
      "metadata": {
        "id": "R7SSDFi4Ehsk"
      }
    },
    {
      "cell_type": "code",
      "source": [
        "a = int(input())\n",
        "b = input().split()\n",
        "for i in range(a):\n",
        "  b[i] = int(b[i])\n",
        "list = [0 for i in range(23)]\n",
        "for i in b:\n",
        "  list[i-1]+=1\n",
        "for i in range(0, 23):\n",
        "  print(list[i], end=' ')"
      ],
      "metadata": {
        "colab": {
          "base_uri": "https://localhost:8080/"
        },
        "id": "R-nNpcmA_ULh",
        "outputId": "50ee30c6-bd05-4929-9ec2-605d1bc14f2b"
      },
      "execution_count": null,
      "outputs": [
        {
          "output_type": "stream",
          "name": "stdout",
          "text": [
            "10\n",
            "1 3 2 2 5 6 7 4 5 9\n",
            "1 2 1 1 2 1 1 0 1 0 0 0 0 0 0 0 0 0 0 0 0 0 0 "
          ]
        }
      ]
    },
    {
      "cell_type": "code",
      "source": [
        "a = int(input())\n",
        "b = input().split()     # str로 찬 리스트가 나옴\n",
        "list = [0 for i in range(23)]\n",
        "\n",
        "if (1<=a<=10000) and (1<=len(b)<=23):\n",
        "    for i in b:\n",
        "      i = int(i)\n",
        "      list[i-1]+=1\n",
        "    for i in range(len(list)):\n",
        "      print(list[i], end=\" \")"
      ],
      "metadata": {
        "colab": {
          "base_uri": "https://localhost:8080/"
        },
        "id": "dEYRGRvt7D0B",
        "outputId": "9223235e-3f44-483f-c3b8-4ccac1233e07"
      },
      "execution_count": null,
      "outputs": [
        {
          "output_type": "stream",
          "name": "stdout",
          "text": [
            "10\n",
            "1 3 2 2 5 6 7 4 5 9\n",
            "1 2 1 1 2 1 1 0 1 0 0 0 0 0 0 0 0 0 0 0 0 0 0 "
          ]
        }
      ]
    },
    {
      "cell_type": "code",
      "source": [
        "a = int(input())\n",
        "b = input().split()     # str로 찬 리스트가 나옴\n",
        "list = [0 for i in range(23)]\n",
        "\n",
        "if (1<=a<=10000) and (1<=len(b)<=23):\n",
        "    for i in b:\n",
        "      i = int(i)\n",
        "      list[i-1]+=1\n",
        "    for i in list:\n",
        "      print(i, end=\" \")"
      ],
      "metadata": {
        "colab": {
          "base_uri": "https://localhost:8080/"
        },
        "id": "pWBa9TKs8a7H",
        "outputId": "4740133d-67b1-4a4d-f17a-c254c2039f2b"
      },
      "execution_count": null,
      "outputs": [
        {
          "output_type": "stream",
          "name": "stdout",
          "text": [
            "10\n",
            "1 3 2 2 5 6 7 4 5 9\n",
            "1 2 1 1 2 1 1 0 1 0 0 0 0 0 0 0 0 0 0 0 0 0 0 "
          ]
        }
      ]
    },
    {
      "cell_type": "markdown",
      "source": [
        "# **6093, 거꾸로 숫자 출력**\n"
      ],
      "metadata": {
        "id": "07an6ROPF5VV"
      }
    },
    {
      "cell_type": "code",
      "source": [
        "n = int(input())\n",
        "k = input().split()\n",
        "for i in range(n):\n",
        "  k[i] = int(k[i])\n",
        "for i in range(n-1, -1, -1):   # range(시작, 끝, 증감) # 시작은 무조건 포함, 끝은 포함안함\n",
        "    print(k[i], end= ' ')"
      ],
      "metadata": {
        "colab": {
          "base_uri": "https://localhost:8080/"
        },
        "id": "MOQpjh9nF8bU",
        "outputId": "cbe77abc-d08e-4e64-ff39-11a85de1dc70"
      },
      "execution_count": null,
      "outputs": [
        {
          "output_type": "stream",
          "name": "stdout",
          "text": [
            "10\n",
            "10 4 2 3 6 6 7 9 8 5\n",
            "5 8 9 7 6 6 3 2 4 10 "
          ]
        }
      ]
    },
    {
      "cell_type": "markdown",
      "source": [
        "# **6094, 최소값 찾기**"
      ],
      "metadata": {
        "id": "Ke87Hn_nHJMV"
      }
    },
    {
      "cell_type": "code",
      "source": [
        "n = int(input())\n",
        "k = input().split()\n",
        "for i in range(n):\n",
        "  k[i] = int(k[i])\n",
        "print(min(k))"
      ],
      "metadata": {
        "colab": {
          "base_uri": "https://localhost:8080/"
        },
        "id": "Q-w0Ve8LGzW9",
        "outputId": "4f4f3f8c-d88d-4faa-986b-296bf6227c71"
      },
      "execution_count": null,
      "outputs": [
        {
          "output_type": "stream",
          "name": "stdout",
          "text": [
            "10\n",
            "10 4 2 3 6 6 7 9 8 5\n",
            "2\n"
          ]
        }
      ]
    },
    {
      "cell_type": "code",
      "source": [
        "# 기준잡고 비교해나가는 방식\n",
        "\n",
        "n = int(input())\n",
        "k = input().split()\n",
        "for i in range(n):\n",
        "  k[i] = int(k[i])\n",
        "standard = k[0]\n",
        "\n",
        "for i in range(n):\n",
        "  if k[i] < standard:\n",
        "    standard = k[i]\n",
        "  else:\n",
        "    continue\n",
        "print(standard)"
      ],
      "metadata": {
        "colab": {
          "base_uri": "https://localhost:8080/"
        },
        "id": "n-o8loFcHkuS",
        "outputId": "ca1ae9bf-3927-487b-edeb-9e339f333abb"
      },
      "execution_count": null,
      "outputs": [
        {
          "output_type": "stream",
          "name": "stdout",
          "text": [
            "5\n",
            "10 4 2 3 6\n",
            "2\n"
          ]
        }
      ]
    },
    {
      "cell_type": "markdown",
      "source": [
        "# **6095, 바둑판 돌 놓기**"
      ],
      "metadata": {
        "id": "A9hvhOWST4IH"
      }
    },
    {
      "cell_type": "code",
      "source": [
        "n = int(input())\n",
        "pan = [[0 for i in range(19)] for j in range(19)]\n",
        "\n",
        "for i in range(1, n+1):\n",
        "    x, y = map(int, input().split())\n",
        "    pan[x-1][y-1]=1     # 중복좌표는 카운트되면 안되니까 +=1이 아닌 =1로 설정\n",
        "for j in range(19):\n",
        "    for k in range(19):\n",
        "        print(pan[j][k], end=' ')\n",
        "    print(\"\")   # end=\"\"쓰고 다음줄로 넘어가고 싶을때 print()하면 한줄 띄고 다음줄에 출력   # print(\"\\n\")은 아예 한줄을 차지함"
      ],
      "metadata": {
        "colab": {
          "base_uri": "https://localhost:8080/"
        },
        "id": "urFlveLUQ1v6",
        "outputId": "798d4b61-853b-464c-e632-5fd15d4b22fe"
      },
      "execution_count": null,
      "outputs": [
        {
          "output_type": "stream",
          "name": "stdout",
          "text": [
            "3\n",
            "1 1\n",
            "2 2\n",
            "3 3\n",
            "1 0 0 0 0 0 0 0 0 0 0 0 0 0 0 0 0 0 0 \n",
            "0 1 0 0 0 0 0 0 0 0 0 0 0 0 0 0 0 0 0 \n",
            "0 0 1 0 0 0 0 0 0 0 0 0 0 0 0 0 0 0 0 \n",
            "0 0 0 0 0 0 0 0 0 0 0 0 0 0 0 0 0 0 0 \n",
            "0 0 0 0 0 0 0 0 0 0 0 0 0 0 0 0 0 0 0 \n",
            "0 0 0 0 0 0 0 0 0 0 0 0 0 0 0 0 0 0 0 \n",
            "0 0 0 0 0 0 0 0 0 0 0 0 0 0 0 0 0 0 0 \n",
            "0 0 0 0 0 0 0 0 0 0 0 0 0 0 0 0 0 0 0 \n",
            "0 0 0 0 0 0 0 0 0 0 0 0 0 0 0 0 0 0 0 \n",
            "0 0 0 0 0 0 0 0 0 0 0 0 0 0 0 0 0 0 0 \n",
            "0 0 0 0 0 0 0 0 0 0 0 0 0 0 0 0 0 0 0 \n",
            "0 0 0 0 0 0 0 0 0 0 0 0 0 0 0 0 0 0 0 \n",
            "0 0 0 0 0 0 0 0 0 0 0 0 0 0 0 0 0 0 0 \n",
            "0 0 0 0 0 0 0 0 0 0 0 0 0 0 0 0 0 0 0 \n",
            "0 0 0 0 0 0 0 0 0 0 0 0 0 0 0 0 0 0 0 \n",
            "0 0 0 0 0 0 0 0 0 0 0 0 0 0 0 0 0 0 0 \n",
            "0 0 0 0 0 0 0 0 0 0 0 0 0 0 0 0 0 0 0 \n",
            "0 0 0 0 0 0 0 0 0 0 0 0 0 0 0 0 0 0 0 \n",
            "0 0 0 0 0 0 0 0 0 0 0 0 0 0 0 0 0 0 0 \n"
          ]
        }
      ]
    },
    {
      "cell_type": "code",
      "source": [
        "print(1)\n",
        "print(\"\")\n",
        "print(2)"
      ],
      "metadata": {
        "colab": {
          "base_uri": "https://localhost:8080/"
        },
        "id": "R3aSPiahTsij",
        "outputId": "a70f0926-e38e-4c09-f646-e23045c1a536"
      },
      "execution_count": null,
      "outputs": [
        {
          "output_type": "stream",
          "name": "stdout",
          "text": [
            "1\n",
            "\n",
            "2\n"
          ]
        }
      ]
    },
    {
      "cell_type": "code",
      "source": [
        "print(1)\n",
        "print()\n",
        "print(2)"
      ],
      "metadata": {
        "colab": {
          "base_uri": "https://localhost:8080/"
        },
        "id": "BRqEAbCKTvUW",
        "outputId": "0e48943e-d400-4c08-9aac-0b1ba7ec4d75"
      },
      "execution_count": null,
      "outputs": [
        {
          "output_type": "stream",
          "name": "stdout",
          "text": [
            "1\n",
            "\n",
            "2\n"
          ]
        }
      ]
    },
    {
      "cell_type": "code",
      "source": [
        "print(1)\n",
        "print(\"\\n\")\n",
        "print(2)"
      ],
      "metadata": {
        "colab": {
          "base_uri": "https://localhost:8080/"
        },
        "id": "JOHFsF0JV5G9",
        "outputId": "01141cf6-1dc6-409c-cec2-0173ded80210"
      },
      "execution_count": null,
      "outputs": [
        {
          "output_type": "stream",
          "name": "stdout",
          "text": [
            "1\n",
            "\n",
            "\n",
            "2\n"
          ]
        }
      ]
    },
    {
      "cell_type": "code",
      "source": [
        "print(1, 2, end=\" \")\n",
        "print(2)"
      ],
      "metadata": {
        "colab": {
          "base_uri": "https://localhost:8080/"
        },
        "id": "fijz3CaTV7X1",
        "outputId": "b16eeae5-95b7-4b3a-d4d5-0f56f53e5984"
      },
      "execution_count": null,
      "outputs": [
        {
          "output_type": "stream",
          "name": "stdout",
          "text": [
            "1 2 2\n"
          ]
        }
      ]
    },
    {
      "cell_type": "code",
      "source": [
        "print(1, 2, end=\" \")\n",
        "print()\n",
        "print(2)"
      ],
      "metadata": {
        "colab": {
          "base_uri": "https://localhost:8080/"
        },
        "id": "Us0E3QJKV8iL",
        "outputId": "efd707c6-35ee-4233-c55a-bfe00d69bd85"
      },
      "execution_count": null,
      "outputs": [
        {
          "output_type": "stream",
          "name": "stdout",
          "text": [
            "1 2 \n",
            "2\n"
          ]
        }
      ]
    },
    {
      "cell_type": "markdown",
      "source": [
        "# **6096, 바둑알 십자 뒤집기**"
      ],
      "metadata": {
        "id": "jc2tj3ekfpMx"
      }
    },
    {
      "cell_type": "code",
      "source": [
        "pan = [[0 for i in range(19)] for j in range(19)]\n",
        "\n",
        "# 바둑판 상황 만들어주기\n",
        "for i in range(19):\n",
        "   a = input().split()\n",
        "   for j in range(19):\n",
        "     pan[i][j] = int(a[j])\n",
        "\n",
        "n = int(input())      # 입력 순서 지켜야 하므로 맨 앞이 아닌 여기서 선언해준다\n",
        "for i in range(n):\n",
        "    x, y = map(int, input().split())\n",
        "    for j in range(19):\n",
        "        if pan[x-1][j] == 1: \n",
        "          pan[x-1][j] = 0\n",
        "        else:\n",
        "          pan[x-1][j] = 1\n",
        "    for k in range(19):\n",
        "        if pan[k][y-1] == 1:\n",
        "          pan[k][y-1] = 0\n",
        "        else:\n",
        "          pan[k][y-1] =1\n",
        "\n",
        "for m in range(19):\n",
        "    for n in range(19):\n",
        "        print(pan[m][n], end=' ')\n",
        "    print(\"\")"
      ],
      "metadata": {
        "id": "E1utTSZ2bro5"
      },
      "execution_count": null,
      "outputs": []
    },
    {
      "cell_type": "code",
      "source": [
        "a = input().split()\n",
        "print(a)"
      ],
      "metadata": {
        "colab": {
          "base_uri": "https://localhost:8080/"
        },
        "id": "pjVcPDNJc6WQ",
        "outputId": "c0f77ce4-4233-4c8b-d7e8-8160a7f8df3c"
      },
      "execution_count": null,
      "outputs": [
        {
          "output_type": "stream",
          "name": "stdout",
          "text": [
            "2 2 2 3\n",
            "['2', '2', '2', '3']\n"
          ]
        }
      ]
    },
    {
      "cell_type": "markdown",
      "source": [
        "# **6097, 설탕과자 뽑기**"
      ],
      "metadata": {
        "id": "edvEnJoxJhMB"
      }
    },
    {
      "cell_type": "code",
      "source": [
        "w, h = map(int, input().split())\n",
        "pan = [[0 for i in range(w)] for j in range(h)]\n",
        "n = int(input())\n",
        "\n",
        "for i in range(n):\n",
        "    l, d, x, y = map(int, input().split())\n",
        "    for j in range(l):\n",
        "      if d==1:\n",
        "        pan[x+(j-1)][y-1] = 1\n",
        "      elif d==0:\n",
        "        pan[x-1][y+(j-1)] = 1\n",
        "\n",
        "for m in range(h):\n",
        "    for n in range(w):\n",
        "        print(pan[m][n], end=\" \")\n",
        "    print()"
      ],
      "metadata": {
        "colab": {
          "base_uri": "https://localhost:8080/"
        },
        "id": "xS8nZ5Y-DVj4",
        "outputId": "1d6a676f-b1ed-41ab-ee7d-803357d66239"
      },
      "execution_count": null,
      "outputs": [
        {
          "output_type": "stream",
          "name": "stdout",
          "text": [
            "5 5\n",
            "3\n",
            "2 0 1 1\n",
            "3 1 2 3\n",
            "4 1 2 5\n",
            "1 1 0 0 0 \n",
            "0 0 1 0 1 \n",
            "0 0 1 0 1 \n",
            "0 0 1 0 1 \n",
            "0 0 0 0 1 \n"
          ]
        }
      ]
    },
    {
      "cell_type": "markdown",
      "source": [
        "# **6098, 성실한 개미**"
      ],
      "metadata": {
        "id": "ooH3muoGY8Ht"
      }
    },
    {
      "cell_type": "code",
      "source": [
        "# 코드업 홈페이지에서 원한 답\n",
        "# 판만들기가 내가 한 거랑 다름\n",
        "# 분명 테두리는 벽이라면서...\n",
        "# 조건 넣어주면 틀렸다고 그러고...\n",
        "\n",
        "pan = [[0 for i in range(10)] for j in range(10)]\n",
        "for i in range(10):\n",
        "    pan[i]=list(map(int,input().split()))\n",
        "    \n",
        "x, y = 1, 1\n",
        "pan[1][1] = 9\n",
        "while True:\n",
        "  if ((x==8)and(y==8)) or (pan[x][y]==2):\n",
        "    pan[x][y]=9\n",
        "    break\n",
        "\n",
        "  if (pan[x][y+1] != 1):\n",
        "    pan[x][y] = 9\n",
        "    y+=1\n",
        "  else:\n",
        "    if (pan[x+1][y] != 1):\n",
        "      pan[x][y] = 9\n",
        "      x+=1\n",
        "    else:\n",
        "      pan[x][y]=9\n",
        "      break\n",
        "\n",
        "for m in range(10):\n",
        "    for n in range(10):\n",
        "        print(pan[m][n], end=\" \")\n",
        "    print()"
      ],
      "metadata": {
        "id": "EXUu1r-DQ8Zl"
      },
      "execution_count": null,
      "outputs": []
    },
    {
      "cell_type": "code",
      "source": [
        "pan = [[0 for i in range(10)] for j in range(10)]  # 외부 벽 생성\n",
        "for i in range(10):\n",
        "    pan[0][i] = 1\n",
        "    pan[9][i] = 1\n",
        "    pan[i][0] = 1\n",
        "    pan[i][9] = 1\n",
        "    \n",
        "a = int(input())   # 내부 벽 개수 설정\n",
        "for i in range(a):\n",
        "    x, y = map(int, input().split())\n",
        "    pan[x][y] = 1\n",
        "\n",
        "w, z = map(int, input().split())   # 먹이 설정\n",
        "pan[w][z] = 2\n",
        "    \n",
        "x, y = 1, 1\n",
        "pan[1][1] = 9\n",
        "while True:\n",
        "  if ((x==8)and(y==8)) or (pan[x][y]==2):\n",
        "    pan[x][y]=9\n",
        "    break\n",
        "\n",
        "  if (pan[x][y+1] != 1):\n",
        "    pan[x][y] = 9\n",
        "    y+=1\n",
        "  else:\n",
        "    if (pan[x+1][y] != 1):\n",
        "      pan[x][y] = 9\n",
        "      x+=1\n",
        "    else:\n",
        "      pan[x][y]=9\n",
        "      break\n",
        "\n",
        "for m in range(10):\n",
        "    for n in range(10):\n",
        "        print(pan[m][n], end=\" \")\n",
        "    print()"
      ],
      "metadata": {
        "colab": {
          "base_uri": "https://localhost:8080/"
        },
        "id": "67C5Ipdj1XjB",
        "outputId": "f976c85e-dec5-4db5-bfac-87270fc2a35f"
      },
      "execution_count": 7,
      "outputs": [
        {
          "output_type": "stream",
          "name": "stdout",
          "text": [
            "11\n",
            "1 3\n",
            "2 3\n",
            "2 4\n",
            "2 5\n",
            "3 7\n",
            "4 7\n",
            "5 5\n",
            "5 7\n",
            "6 5\n",
            "6 7\n",
            "7 5\n",
            "6 6\n",
            "1 1 1 1 1 1 1 1 1 1 \n",
            "1 9 9 1 0 0 0 0 0 1 \n",
            "1 0 9 1 1 1 0 0 0 1 \n",
            "1 0 9 9 9 9 9 1 0 1 \n",
            "1 0 0 0 0 0 9 1 0 1 \n",
            "1 0 0 0 0 1 9 1 0 1 \n",
            "1 0 0 0 0 1 9 1 0 1 \n",
            "1 0 0 0 0 1 0 0 0 1 \n",
            "1 0 0 0 0 0 0 0 0 1 \n",
            "1 1 1 1 1 1 1 1 1 1 \n"
          ]
        }
      ]
    }
  ]
}